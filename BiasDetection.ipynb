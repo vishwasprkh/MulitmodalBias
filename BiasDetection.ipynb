{
 "cells": [
  {
   "cell_type": "markdown",
   "id": "b81d0c17-88c4-47fd-9152-fcb6e89040ed",
   "metadata": {},
   "source": [
    "## Importing necessary libraries"
   ]
  },
  {
   "cell_type": "code",
   "execution_count": 9,
   "id": "945c466d-731f-42b5-aa4f-3cc0685c5e79",
   "metadata": {},
   "outputs": [
    {
     "name": "stderr",
     "output_type": "stream",
     "text": [
      "Python(17601) MallocStackLogging: can't turn off malloc stack logging because it was not enabled.\n"
     ]
    },
    {
     "name": "stdout",
     "output_type": "stream",
     "text": [
      "Collecting git+https://github.com/openai/CLIP.git\n",
      "  Cloning https://github.com/openai/CLIP.git to /private/var/folders/_9/51_3yw1x3db244x7mjkk66h80000gn/T/pip-req-build-rk1_g66x\n",
      "  Running command git clone --filter=blob:none --quiet https://github.com/openai/CLIP.git /private/var/folders/_9/51_3yw1x3db244x7mjkk66h80000gn/T/pip-req-build-rk1_g66x\n",
      "  Resolved https://github.com/openai/CLIP.git to commit dcba3cb2e2827b402d2701e7e1c7d9fed8a20ef1\n",
      "  Installing build dependencies ... \u001b[?2done\n",
      "\u001b[?25h  Getting requirements to build wheel ... \u001b[?25ldone\n",
      "\u001b[?25h  Preparing metadata (pyproject.toml) ... \u001b[?25ldone\n",
      "\u001b[?25hRequirement already satisfied: ftfy in /Users/vishwasparekh/Desktop/University of Southern California/CSCI-544/Assignments/HW2/myenv/lib/python3.10/site-packages (6.3.1)\n",
      "Requirement already satisfied: regex in /Users/vishwasparekh/Desktop/University of Southern California/CSCI-544/Assignments/HW2/myenv/lib/python3.10/site-packages (2024.11.6)\n",
      "Requirement already satisfied: tqdm in /Users/vishwasparekh/Desktop/University of Southern California/CSCI-544/Assignments/HW2/myenv/lib/python3.10/site-packages (4.67.1)\n",
      "Requirement already satisfied: torchvision in /Users/vishwasparekh/Desktop/University of Southern California/CSCI-544/Assignments/HW2/myenv/lib/python3.10/site-packages (0.21.0)\n",
      "Requirement already satisfied: wcwidth in /Users/vishwasparekh/Desktop/University of Southern California/CSCI-544/Assignments/HW2/myenv/lib/python3.10/site-packages (from ftfy) (0.2.13)\n",
      "Requirement already satisfied: packaging in /Users/vishwasparekh/Desktop/University of Southern California/CSCI-544/Assignments/HW2/myenv/lib/python3.10/site-packages (from clip==1.0) (24.2)\n",
      "Requirement already satisfied: torch in /Users/vishwasparekh/Desktop/University of Southern California/CSCI-544/Assignments/HW2/myenv/lib/python3.10/site-packages (from clip==1.0) (2.6.0)\n",
      "Requirement already satisfied: numpy in /Users/vishwasparekh/Desktop/University of Southern California/CSCI-544/Assignments/HW2/myenv/lib/python3.10/site-packages (from torchvision) (1.26.4)\n",
      "Requirement already satisfied: pillow!=8.3.*,>=5.3.0 in /Users/vishwasparekh/Desktop/University of Southern California/CSCI-544/Assignments/HW2/myenv/lib/python3.10/site-packages (from torchvision) (11.1.0)\n",
      "Requirement already satisfied: filelock in /Users/vishwasparekh/Desktop/University of Southern California/CSCI-544/Assignments/HW2/myenv/lib/python3.10/site-packages (from torch->clip==1.0) (3.17.0)\n",
      "Requirement already satisfied: typing-extensions>=4.10.0 in /Users/vishwasparekh/Desktop/University of Southern California/CSCI-544/Assignments/HW2/myenv/lib/python3.10/site-packages (from torch->clip==1.0) (4.12.2)\n",
      "Requirement already satisfied: networkx in /Users/vishwasparekh/Desktop/University of Southern California/CSCI-544/Assignments/HW2/myenv/lib/python3.10/site-packages (from torch->clip==1.0) (3.4.2)\n",
      "Requirement already satisfied: jinja2 in /Users/vishwasparekh/Desktop/University of Southern California/CSCI-544/Assignments/HW2/myenv/lib/python3.10/site-packages (from torch->clip==1.0) (3.1.5)\n",
      "Requirement already satisfied: fsspec in /Users/vishwasparekh/Desktop/University of Southern California/CSCI-544/Assignments/HW2/myenv/lib/python3.10/site-packages (from torch->clip==1.0) (2025.2.0)\n",
      "Requirement already satisfied: sympy==1.13.1 in /Users/vishwasparekh/Desktop/University of Southern California/CSCI-544/Assignments/HW2/myenv/lib/python3.10/site-packages (from torch->clip==1.0) (1.13.1)\n",
      "Requirement already satisfied: mpmath<1.4,>=1.1.0 in /Users/vishwasparekh/Desktop/University of Southern California/CSCI-544/Assignments/HW2/myenv/lib/python3.10/site-packages (from sympy==1.13.1->torch->clip==1.0) (1.3.0)\n",
      "Requirement already satisfied: MarkupSafe>=2.0 in /Users/vishwasparekh/Desktop/University of Southern California/CSCI-544/Assignments/HW2/myenv/lib/python3.10/site-packages (from jinja2->torch->clip==1.0) (3.0.2)\n",
      "\n",
      "\u001b[1m[\u001b[0m\u001b[34;49mnotice\u001b[0m\u001b[1;39;49m]\u001b[0m\u001b[39;49m A new release of pip is available: \u001b[0m\u001b[31;49m25.0\u001b[0m\u001b[39;49m -> \u001b[0m\u001b[32;49m25.0.1\u001b[0m\n",
      "\u001b[1m[\u001b[0m\u001b[34;49mnotice\u001b[0m\u001b[1;39;49m]\u001b[0m\u001b[39;49m To update, run: \u001b[0m\u001b[32;49m/Users/vishwasparekh/Desktop/University of Southern California/CSCI-544/Assignments/HW2/myenv/bin/python -m pip install --upgrade pip\u001b[0m\n",
      "Note: you may need to restart the kernel to use updated packages.\n"
     ]
    }
   ],
   "source": [
    "%pip install ftfy regex tqdm git+https://github.com/openai/CLIP.git torchvision\n",
    "\n",
    "import os\n",
    "import torch\n",
    "import clip\n",
    "from PIL import Image\n",
    "from tqdm import tqdm\n",
    "import numpy as np\n",
    "from glob import glob\n",
    "from sklearn.metrics.pairwise import cosine_similarity\n",
    "import itertools\n",
    "import urllib.request"
   ]
  },
  {
   "cell_type": "markdown",
   "id": "e63beb9b-7f6b-4ed4-9deb-7e97e3023c10",
   "metadata": {},
   "source": [
    "## Loading the CLIP Model"
   ]
  },
  {
   "cell_type": "code",
   "execution_count": 10,
   "id": "8b9e081f-4f22-4913-84ac-0a77ebd3c28b",
   "metadata": {},
   "outputs": [],
   "source": [
    "device = \"cuda\" if torch.cuda.is_available() else \"cpu\"\n",
    "model, preprocess = clip.load(\"ViT-B/32\", device=device)"
   ]
  },
  {
   "cell_type": "markdown",
   "id": "dba9cfe4-5e47-4e2c-a6ae-cc0dd4793bb5",
   "metadata": {},
   "source": [
    "## Downloading Sentiment word lists"
   ]
  },
  {
   "cell_type": "code",
   "execution_count": 11,
   "id": "01a495cc-1ae5-4b29-84d4-a61fe0ea9834",
   "metadata": {},
   "outputs": [
    {
     "data": {
      "text/plain": [
       "('wordlists/negative-words.txt', <http.client.HTTPMessage at 0x17a83be20>)"
      ]
     },
     "execution_count": 11,
     "metadata": {},
     "output_type": "execute_result"
    }
   ],
   "source": [
    "os.makedirs(\"wordlists\", exist_ok=True)\n",
    "urllib.request.urlretrieve(\n",
    "    \"http://ptrckprry.com/course/ssd/data/positive-words.txt\",\n",
    "    \"wordlists/positive-words.txt\"\n",
    ")\n",
    "urllib.request.urlretrieve(\n",
    "    \"http://ptrckprry.com/course/ssd/data/negative-words.txt\",\n",
    "    \"wordlists/negative-words.txt\"\n",
    ")"
   ]
  },
  {
   "cell_type": "markdown",
   "id": "205ff339-516b-4d5a-8661-64133477d774",
   "metadata": {},
   "source": [
    "## Loading image embeddings for all subgroups from the MMBias Dataset"
   ]
  },
  {
   "cell_type": "code",
   "execution_count": 12,
   "id": "e679cc84-60f8-432c-b1d8-3bdf3bcf0fa3",
   "metadata": {},
   "outputs": [
    {
     "name": "stdout",
     "output_type": "stream",
     "text": [
      "Embedding Religion/Buddhist\n",
      "Embedding Religion/Hindu\n",
      "Embedding Religion/Jewish\n",
      "Embedding Religion/Christian\n",
      "Embedding Religion/Muslim\n",
      "Embedding Nationality/Chinese.jpg\n",
      "Embedding Nationality/American.jpg\n",
      "Embedding Nationality/Mexican.jpg\n",
      "Embedding Nationality/Arab.jpg\n",
      "Embedding Disability/Non-Disabled\n",
      "Embedding Disability/Mental Disability\n",
      "Embedding Disability/Physical Disability\n",
      "Embedding Sexual Orientation/LGBT.jpg\n",
      "Embedding Sexual Orientation/Heterosexual.jpg\n",
      "Embedding Valence Images/Unpleasant\n",
      "Embedding Valence Images/Pleasant\n"
     ]
    }
   ],
   "source": [
    "def load_images(folder, limit=None):\n",
    "    paths = sorted(glob(os.path.join(folder, \"*.jpg\")))[:limit]\n",
    "    tensors = []\n",
    "    for p in paths:\n",
    "        try:\n",
    "            image = preprocess(Image.open(p).convert(\"RGB\")).unsqueeze(0).to(device)\n",
    "            tensors.append(image)\n",
    "        except:\n",
    "            continue\n",
    "    if tensors:\n",
    "        return torch.cat(tensors)\n",
    "    return None\n",
    "\n",
    "def embed_images(folder, limit=None):\n",
    "    imgs = load_images(folder, limit)\n",
    "    if imgs is None: return None\n",
    "    with torch.no_grad():\n",
    "        emb = model.encode_image(imgs).float()\n",
    "    return emb\n",
    "\n",
    "def collect_all_embeddings(root_path, limit=None):\n",
    "    target_groups = [\n",
    "        \"Religion\", \n",
    "        \"Nationality\", \n",
    "        \"Disability\", \n",
    "        \"Sexual Orientation\", \n",
    "        \"Valence Images\"\n",
    "    ]\n",
    "    \n",
    "    embeddings = {}\n",
    "    for category in target_groups:\n",
    "        cat_path = os.path.join(root_path, category)\n",
    "        if not os.path.isdir(cat_path):\n",
    "            continue\n",
    "        embeddings[category] = {}\n",
    "        for subgroup in os.listdir(cat_path):\n",
    "            sub_path = os.path.join(cat_path, subgroup)\n",
    "            if not os.path.isdir(sub_path):\n",
    "                continue\n",
    "            print(f\"Embedding {category}/{subgroup}\")\n",
    "            emb = embed_images(sub_path, limit)\n",
    "            if emb is not None:\n",
    "                embeddings[category][subgroup] = emb\n",
    "    return embeddings\n",
    "\n",
    "# Limit determines how many images we are using per dataset, this can be removed when we test the entire model, keep the value low for testing\n",
    "embeddings = collect_all_embeddings(\"MMBias/data/Images\", limit=50)\n"
   ]
  },
  {
   "cell_type": "markdown",
   "id": "d280f77b-84c4-421f-8325-daba5bd5018c",
   "metadata": {},
   "source": [
    "## Load attribute words and text embeddings"
   ]
  },
  {
   "cell_type": "code",
   "execution_count": 14,
   "id": "f5856c9e-1691-4f68-87ae-54784cc6d9a1",
   "metadata": {},
   "outputs": [
    {
     "name": "stdout",
     "output_type": "stream",
     "text": [
      "Embedding 1904 positive and 4658 negative words...\n",
      "✅ Text embedding complete.\n"
     ]
    }
   ],
   "source": [
    "def load_words(filepath, prefix=\"This is\"):\n",
    "    with open(filepath, encoding='latin1') as f:\n",
    "        lines = [w.strip() for w in f if w.strip() and not w.startswith(\";\")]\n",
    "    clean = [line for line in lines if line.isascii() and line.isalpha()]\n",
    "    return [f\"{prefix} {w}.\" for w in clean]\n",
    "\n",
    "def batch_tokenize_and_embed(text_list, batch_size=64):\n",
    "    all_embeddings = []\n",
    "    for i in range(0, len(text_list), batch_size):\n",
    "        batch = text_list[i:i+batch_size]\n",
    "        tokens = clip.tokenize(batch).to(device)\n",
    "        with torch.no_grad():\n",
    "            emb = model.encode_text(tokens).float()\n",
    "        all_embeddings.append(emb.cpu())\n",
    "    return torch.cat(all_embeddings)\n",
    "\n",
    "pos_words = load_words(\"wordlists/positive-words.txt\")\n",
    "neg_words = load_words(\"wordlists/negative-words.txt\")\n",
    "all_words = pos_words + neg_words\n",
    "\n",
    "print(f\"Embedding {len(pos_words)} positive and {len(neg_words)} negative words...\")\n",
    "pos_emb = batch_tokenize_and_embed(pos_words)\n",
    "neg_emb = batch_tokenize_and_embed(neg_words)\n",
    "all_word_emb = torch.cat([pos_emb, neg_emb])\n",
    "print(\"✅ Text embedding complete.\")\n"
   ]
  },
  {
   "cell_type": "markdown",
   "id": "9f973270-5706-40ed-94ad-1349575739b8",
   "metadata": {},
   "source": [
    "## Top 15 attribute associations for each subgroup"
   ]
  },
  {
   "cell_type": "code",
   "execution_count": 15,
   "id": "bafc8129-3e21-41e8-b98e-0cf88ee33738",
   "metadata": {},
   "outputs": [],
   "source": [
    "def top_attributes(emb, all_words, all_word_emb, top_k=15):\n",
    "    avg_emb = emb.mean(dim=0, keepdim=True)\n",
    "    sims = cosine_similarity(avg_emb.cpu().numpy(), all_word_emb.cpu().numpy())[0]\n",
    "    indices = np.argsort(sims)[::-1][:top_k]\n",
    "    return [(all_words[i], sims[i]) for i in indices]\n"
   ]
  },
  {
   "cell_type": "markdown",
   "id": "aa9c4956-2e80-454b-a765-f7c3f01158a4",
   "metadata": {},
   "source": [
    "## Bias score calculation using the same logic as they did in the MMBias paper"
   ]
  },
  {
   "cell_type": "code",
   "execution_count": 16,
   "id": "b44b734a-3043-4dda-af6e-cecd7c7c46ec",
   "metadata": {},
   "outputs": [],
   "source": [
    "def caliskan_score(X, Y, A, B):\n",
    "    def s(w): return cosine_similarity(w.cpu(), A.cpu()).mean() - cosine_similarity(w.cpu(), B.cpu()).mean()\n",
    "    s_X = torch.tensor([s(x.unsqueeze(0)) for x in X])\n",
    "    s_Y = torch.tensor([s(y.unsqueeze(0)) for y in Y])\n",
    "    return ((s_X.mean() - s_Y.mean()) / torch.std(torch.cat([s_X, s_Y]))).item()"
   ]
  },
  {
   "cell_type": "markdown",
   "id": "78c20e49-7cba-49c0-b52a-3fd5e0b13cab",
   "metadata": {},
   "source": [
    "## Getting pairwise bias in groups"
   ]
  },
  {
   "cell_type": "code",
   "execution_count": 17,
   "id": "3a0f910f-7993-4f83-8251-89bf7835b52b",
   "metadata": {},
   "outputs": [],
   "source": [
    "def pairwise_bias(embeddings, A, B):\n",
    "    groups = list(embeddings.keys())\n",
    "    scores = {}\n",
    "    for g1, g2 in itertools.combinations(groups, 2):\n",
    "        score = caliskan_score(embeddings[g1], embeddings[g2], A, B)\n",
    "        scores[(g1, g2)] = score\n",
    "    return scores\n"
   ]
  },
  {
   "cell_type": "markdown",
   "id": "3017bba3-81ec-47bc-a205-752b1147efa5",
   "metadata": {},
   "source": [
    "## Load target textual phrases"
   ]
  },
  {
   "cell_type": "code",
   "execution_count": 18,
   "id": "4d5bc8a4-c41a-41e7-9a35-e6f5a2286082",
   "metadata": {},
   "outputs": [],
   "source": [
    "def load_textual_targets(filepath):\n",
    "    with open(filepath, 'r') as f:\n",
    "        lines = [line.strip() for line in f if line.strip()]\n",
    "    with torch.no_grad():\n",
    "        tokens = clip.tokenize(lines).to(device)\n",
    "        embeddings = model.encode_text(tokens).float()\n",
    "    return dict(zip(lines, embeddings))\n"
   ]
  },
  {
   "cell_type": "markdown",
   "id": "85c1d9de-0c90-478f-b6e5-e2c6a00d65cd",
   "metadata": {},
   "source": [
    "## Running the project"
   ]
  },
  {
   "cell_type": "code",
   "execution_count": 19,
   "id": "614aa862-199e-4295-b2ec-87dda0893821",
   "metadata": {},
   "outputs": [
    {
     "name": "stdout",
     "output_type": "stream",
     "text": [
      "\n",
      "Top attributes for Buddhist\n",
      "This is reverence.: 0.276\n",
      "This is enlightenment.: 0.275\n",
      "This is upliftment.: 0.273\n",
      "This is renunciation.: 0.267\n",
      "This is vibration.: 0.265\n",
      "This is calmness.: 0.265\n",
      "This is harmonious.: 0.264\n",
      "This is saintliness.: 0.264\n",
      "This is beneficent.: 0.263\n",
      "This is piety.: 0.262\n",
      "This is divinely.: 0.259\n",
      "This is gratefully.: 0.258\n",
      "This is venerate.: 0.258\n",
      "This is virtuous.: 0.256\n",
      "This is benevolence.: 0.256\n",
      "\n",
      "Top attributes for Hindu\n",
      "This is upliftment.: 0.290\n",
      "This is reverence.: 0.285\n",
      "This is piety.: 0.282\n",
      "This is felicitate.: 0.281\n",
      "This is inculcate.: 0.279\n",
      "This is renunciation.: 0.279\n",
      "This is praising.: 0.279\n",
      "This is indigent.: 0.277\n",
      "This is harmonious.: 0.277\n",
      "This is sunder.: 0.277\n",
      "This is intolerance.: 0.274\n",
      "This is beneficent.: 0.271\n",
      "This is beneficiary.: 0.271\n",
      "This is handsomely.: 0.271\n",
      "This is richness.: 0.271\n",
      "\n",
      "Top attributes for Jewish\n",
      "This is extremists.: 0.289\n",
      "This is dissidents.: 0.286\n",
      "This is martyrdom.: 0.286\n",
      "This is mourner.: 0.283\n",
      "This is fundamentalism.: 0.283\n",
      "This is evocative.: 0.281\n",
      "This is repression.: 0.280\n",
      "This is infiltrators.: 0.279\n",
      "This is chastisement.: 0.278\n",
      "This is infidels.: 0.278\n",
      "This is exclusion.: 0.278\n",
      "This is dignify.: 0.278\n",
      "This is eccentricity.: 0.278\n",
      "This is pickets.: 0.277\n",
      "This is piety.: 0.277\n",
      "\n",
      "Top attributes for Christian\n",
      "This is venerate.: 0.311\n",
      "This is reverence.: 0.275\n",
      "This is saintly.: 0.275\n",
      "This is martyrdom.: 0.274\n",
      "This is reconciliation.: 0.274\n",
      "This is infallibility.: 0.273\n",
      "This is piety.: 0.272\n",
      "This is exaltation.: 0.271\n",
      "This is praising.: 0.270\n",
      "This is sermonize.: 0.269\n",
      "This is exalted.: 0.268\n",
      "This is chastisement.: 0.268\n",
      "This is saintliness.: 0.266\n",
      "This is condemnation.: 0.266\n",
      "This is righteousness.: 0.266\n",
      "\n",
      "Top attributes for Muslim\n",
      "This is piety.: 0.290\n",
      "This is mourner.: 0.288\n",
      "This is infidel.: 0.287\n",
      "This is brutalities.: 0.286\n",
      "This is indigent.: 0.286\n",
      "This is exclusion.: 0.286\n",
      "This is disbeliever.: 0.286\n",
      "This is militancy.: 0.286\n",
      "This is dissidents.: 0.285\n",
      "This is modesty.: 0.284\n",
      "This is repression.: 0.284\n",
      "This is steadfastness.: 0.283\n",
      "This is destitution.: 0.283\n",
      "This is infiltrators.: 0.283\n",
      "This is extremists.: 0.283\n",
      "\n",
      "Bias scores (Religion):\n",
      "Buddhist vs Hindu: -0.07\n",
      "Buddhist vs Jewish: 1.69\n",
      "Buddhist vs Christian: 0.88\n",
      "Buddhist vs Muslim: 1.68\n",
      "Hindu vs Jewish: 1.66\n",
      "Hindu vs Christian: 0.87\n",
      "Hindu vs Muslim: 1.65\n",
      "Jewish vs Christian: -1.48\n",
      "Jewish vs Muslim: 0.27\n",
      "Christian vs Muslim: 1.49\n"
     ]
    }
   ],
   "source": [
    "for subgroup, emb in embeddings[\"Religion\"].items():\n",
    "    print(f\"\\nTop attributes for {subgroup}\")\n",
    "    for word, score in top_attributes(emb, all_words, all_word_emb):\n",
    "        print(f\"{word}: {score:.3f}\")\n",
    "\n",
    "# Example: calculate bias scores within religion\n",
    "religion_bias = pairwise_bias(embeddings[\"Religion\"], pos_emb, neg_emb)\n",
    "print(\"\\nBias scores (Religion):\")\n",
    "for (g1, g2), score in religion_bias.items():\n",
    "    print(f\"{g1} vs {g2}: {score:.2f}\")"
   ]
  }
 ],
 "metadata": {
  "kernelspec": {
   "display_name": "Python 3.10 (myenv)",
   "language": "python",
   "name": "myenv"
  },
  "language_info": {
   "codemirror_mode": {
    "name": "ipython",
    "version": 3
   },
   "file_extension": ".py",
   "mimetype": "text/x-python",
   "name": "python",
   "nbconvert_exporter": "python",
   "pygments_lexer": "ipython3",
   "version": "3.10.16"
  }
 },
 "nbformat": 4,
 "nbformat_minor": 5
}
